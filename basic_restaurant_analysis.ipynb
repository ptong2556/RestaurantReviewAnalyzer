{
 "cells": [
  {
   "cell_type": "code",
   "execution_count": 1,
   "id": "d249099a-b8b9-4f70-a226-d1964d15f330",
   "metadata": {},
   "outputs": [],
   "source": [
    "city = \"Tampa\"\n"
   ]
  },
  {
   "cell_type": "code",
   "execution_count": 2,
   "id": "69bcf271-2e20-4e49-a656-f8745df15233",
   "metadata": {},
   "outputs": [
    {
     "name": "stdout",
     "output_type": "stream",
     "text": [
      "across 100 representative reviews for non-chinese restaurants in Tampa\n",
      "Mean: 3.7229287090558767\n",
      "Median: 4.0\n",
      "Standard Deviation: 1.4109093812562434\n",
      "Minimum Value: 1.0\n",
      "Maximum Value: 5.0\n"
     ]
    }
   ],
   "source": [
    "import json\n",
    "import statistics\n",
    "\n",
    "# Extract values for analysis\n",
    "#values = [item['value'] for item in data]\n",
    "i = 0\n",
    "\n",
    "with open('tampa_not_chinese_reviews.json', 'r') as file:\n",
    "    for line in file:\n",
    "        business = json.loads(line)\n",
    "        j = 0\n",
    "        stars = []\n",
    "        for key in business.keys():\n",
    "            if j < 30:\n",
    "                j +=1\n",
    "                stars += [review['stars'] for review in business[key]]\n",
    "        mean = statistics.mean(stars)\n",
    "        mean = statistics.mean(stars)\n",
    "        median = statistics.median(stars)\n",
    "        std_dev = statistics.stdev(stars)\n",
    "        min_value = min(stars)\n",
    "        max_value = max(stars)\n",
    "\n",
    "        # Display the statistics\n",
    "        print(\"across 100 representative reviews for non-chinese restaurants in \" + city)\n",
    "        print(\"Mean:\", mean)\n",
    "        print(\"Median:\", median)\n",
    "        print(\"Standard Deviation:\", std_dev)\n",
    "        print(\"Minimum Value:\", min_value)\n",
    "        print(\"Maximum Value:\", max_value)"
   ]
  },
  {
   "cell_type": "code",
   "execution_count": 3,
   "id": "c81b7651-a089-4ad9-8543-e1de7ac8dd37",
   "metadata": {},
   "outputs": [
    {
     "data": {
      "image/png": "[encoded data removed]",
      "text/plain": [
       "<Figure size 432x288 with 1 Axes>"
      ]
     },
     "metadata": {
      "needs_background": "light"
     },
     "output_type": "display_data"
    }
   ],
   "source": [
    "import matplotlib.pyplot as plt\n",
    "\n",
    "# Sample data (replace this with your data)\n",
    "\n",
    "# Plotting the histogram\n",
    "plt.hist(stars, bins=5, edgecolor='black')  # Adjust the number of bins as needed\n",
    "\n",
    "# Labeling and titling the histogram\n",
    "plt.xlabel('Values')\n",
    "plt.ylabel('Frequency')\n",
    "plt.title('Rating Frequency for Non-Chinese Restaurants in ' + city)\n",
    "\n",
    "# Show the plot\n",
    "plt.show()"
   ]
  },
  {
   "cell_type": "code",
   "execution_count": 4,
   "id": "44a446ef-e67d-48d3-bbba-457927cf170b",
   "metadata": {},
   "outputs": [
    {
     "data": {
      "image/png": "[encoded data removed]",
      "text/plain": [
       "<Figure size 432x288 with 1 Axes>"
      ]
     },
     "metadata": {
      "needs_background": "light"
     },
     "output_type": "display_data"
    }
   ],
   "source": [
    "plt.boxplot(stars, vert=False)\n",
    "\n",
    "# Labeling and titling the box plot\n",
    "plt.xlabel('Ratings')\n",
    "plt.title('Review Ratings Non-Chinese restaurants in ' + city)\n",
    "\n",
    "# Show the plot\n",
    "plt.show()"
   ]
  },
  {
   "cell_type": "raw",
   "id": "e9a949ff-0458-41ba-8143-d92a1f664ee3",
   "metadata": {},
   "source": [
    "Asian Analysis"
   ]
  },
  {
   "cell_type": "code",
   "execution_count": 6,
   "id": "cc93d296-dc54-4fdf-980c-9082776f3962",
   "metadata": {},
   "outputs": [
    {
     "name": "stdout",
     "output_type": "stream",
     "text": [
      "across 100 representative reviews for every chinese restaurant in Tampa\n",
      "Mean: 3.4479878511769173\n",
      "Median: 4.0\n",
      "Standard Deviation: 1.518299512674176\n",
      "Minimum Value: 1.0\n",
      "Maximum Value: 5.0\n"
     ]
    }
   ],
   "source": [
    "import json\n",
    "import statistics\n",
    "\n",
    "# Extract values for analysis\n",
    "#values = [item['value'] for item in data]\n",
    "i = 0\n",
    "with open('tampa_chinese_reviews.json', 'r') as file:\n",
    "    for line in file:\n",
    "        business = json.loads(line)\n",
    "        j = 0\n",
    "        chinese_stars = []\n",
    "        for key in business.keys():\n",
    "            if j < 30:\n",
    "                j +=1\n",
    "                chinese_stars += [review['stars'] for review in business[key]]\n",
    "        mean = statistics.mean(chinese_stars)\n",
    "        median = statistics.median(chinese_stars)\n",
    "        std_dev = statistics.stdev(chinese_stars)\n",
    "        min_value = min(chinese_stars)\n",
    "        max_value = max(chinese_stars)\n",
    "\n",
    "        # Display the statistics\n",
    "        print(\"across 100 representative reviews for every chinese restaurant in \" + city)\n",
    "        print(\"Mean:\", mean)\n",
    "        print(\"Median:\", median)\n",
    "        print(\"Standard Deviation:\", std_dev)\n",
    "        print(\"Minimum Value:\", min_value)\n",
    "        print(\"Maximum Value:\", max_value)"
   ]
  },
  {
   "cell_type": "code",
   "execution_count": null,
   "id": "b02c93e2-92d1-439d-b299-1af14dd41b04",
   "metadata": {},
   "outputs": [],
   "source": []
  },
  {
   "cell_type": "code",
   "execution_count": 7,
   "id": "f426249c-ddc3-4cc3-9d38-dcc416b7c225",
   "metadata": {},
   "outputs": [
    {
     "data": {
      "image/png": "[encoded data removed]",
      "text/plain": [
       "<Figure size 432x288 with 1 Axes>"
      ]
     },
     "metadata": {
      "needs_background": "light"
     },
     "output_type": "display_data"
    }
   ],
   "source": [
    "plt.boxplot(chinese_stars, vert=False)\n",
    "\n",
    "# Labeling and titling the box plot\n",
    "plt.xlabel('Ratings')\n",
    "plt.title('Review Ratings across Chinese restaurants in ' + city)\n",
    "\n",
    "# Show the plot\n",
    "plt.show()"
   ]
  },
  {
   "cell_type": "code",
   "execution_count": 8,
   "id": "0d9cafb5-f3f8-42b1-805d-402c3a3e6f4a",
   "metadata": {},
   "outputs": [
    {
     "data": {
      "image/png": "[encoded data removed]",
      "text/plain": [
       "<Figure size 432x288 with 1 Axes>"
      ]
     },
     "metadata": {
      "needs_background": "light"
     },
     "output_type": "display_data"
    }
   ],
   "source": [
    "\n",
    "# Sample data (replace this with your data)\n",
    "\n",
    "# Plotting the histogram\n",
    "plt.hist(chinese_stars, bins=5, edgecolor='black')  # Adjust the number of bins as needed\n",
    "\n",
    "# Labeling and titling the histogram\n",
    "plt.xlabel('Values')\n",
    "plt.ylabel('Frequency')\n",
    "plt.title('Rating Frequency of Chinese Restaurants in ' + city)\n",
    "\n",
    "# Show the plot\n",
    "plt.show()"
   ]
  },
  {
   "cell_type": "code",
   "execution_count": 9,
   "id": "fb6ea770-47ed-44a5-8e2e-682ace8fe4de",
   "metadata": {},
   "outputs": [],
   "source": [
    "import pandas as pd\n",
    "import numpy as np\n",
    "census_dataset = pd.read_csv('2020_Census_Data_Cities.csv') \n",
    "census_dataset.head(5)\n",
    "census_dataset = census_dataset.drop(columns=['Total population'])\n",
    "\n",
    "\n",
    "\n",
    "\n"
   ]
  },
  {
   "cell_type": "code",
   "execution_count": 10,
   "id": "8b6f1ff8-6453-4750-9580-962d91d318dc",
   "metadata": {},
   "outputs": [
    {
     "data": {
      "text/plain": [
       "<AxesSubplot:title={'center':'Stacked Bar Graph'}, ylabel='City'>"
      ]
     },
     "execution_count": 10,
     "metadata": {},
     "output_type": "execute_result"
    },
    {
     "data": {
      "image/png": "[encoded data removed]",
      "text/plain": [
       "<Figure size 432x288 with 1 Axes>"
      ]
     },
     "metadata": {
      "needs_background": "light"
     },
     "output_type": "display_data"
    }
   ],
   "source": [
    "import pandas as pd \n",
    "import matplotlib.pyplot as plt \n",
    "  \n",
    "census_dataset.plot( \n",
    "    x = 'City', \n",
    "    kind = 'barh', \n",
    "    stacked = True, \n",
    "    title = 'Stacked Bar Graph', \n",
    "    mark_right = True) "
   ]
  },
  {
   "cell_type": "code",
   "execution_count": 11,
   "id": "9410d69d-2b21-4d04-8cb9-3a8c6f537b81",
   "metadata": {},
   "outputs": [
    {
     "name": "stdout",
     "output_type": "stream",
     "text": [
      "T-TEST STAT:  5.612415464107878\n",
      "T-TEST PVALUE:  2.1336092063570666e-08\n"
     ]
    }
   ],
   "source": [
    "from scipy import stats\n",
    "t_statistic, p_value = stats.ttest_ind(stars, chinese_stars)\n",
    "\n",
    "print(\"T-TEST STAT: \", t_statistic)\n",
    "print(\"T-TEST PVALUE: \", p_value)"
   ]
  },
  {
   "cell_type": "code",
   "execution_count": null,
   "id": "0d1a361d-288a-4047-aa83-9d6bf9bbe340",
   "metadata": {},
   "outputs": [],
   "source": []
  },
  {
   "cell_type": "code",
   "execution_count": null,
   "id": "2d1fb8ac-a07f-4cc0-9821-b02eaf6edddb",
   "metadata": {},
   "outputs": [],
   "source": []
  },
  {
   "cell_type": "code",
   "execution_count": null,
   "id": "a9043a28-9504-4bbd-b94c-49a11c46fe4f",
   "metadata": {},
   "outputs": [],
   "source": []
  }
 ],
 "metadata": {
  "kernelspec": {
   "display_name": "Python 3 (ipykernel)",
   "language": "python",
   "name": "python3"
  },
  "language_info": {
   "codemirror_mode": {
    "name": "ipython",
    "version": 3
   },
   "file_extension": ".py",
   "mimetype": "text/x-python",
   "name": "python",
   "nbconvert_exporter": "python",
   "pygments_lexer": "ipython3",
   "version": "3.9.7"
  }
 },
 "nbformat": 4,
 "nbformat_minor": 5
}
