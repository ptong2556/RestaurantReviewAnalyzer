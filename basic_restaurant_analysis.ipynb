{
 "cells": [
  {
   "cell_type": "code",
   "execution_count": 17,
   "id": "d249099a-b8b9-4f70-a226-d1964d15f330",
   "metadata": {},
   "outputs": [],
   "source": [
    "city = \"Tampa\"\n"
   ]
  },
  {
   "cell_type": "code",
   "execution_count": 18,
   "id": "69bcf271-2e20-4e49-a656-f8745df15233",
   "metadata": {},
   "outputs": [
    {
     "name": "stdout",
     "output_type": "stream",
     "text": [
      "across 100 representative reviews for non-chinese restaurants in Tampa\n",
      "Mean: 3.7229287090558767\n",
      "Median: 4.0\n",
      "Standard Deviation: 1.4109093812562434\n",
      "Minimum Value: 1.0\n",
      "Maximum Value: 5.0\n"
     ]
    }
   ],
   "source": [
    "import json\n",
    "import statistics\n",
    "s\n",
    "i = 0\n",
    "\n",
    "with open('tampa_not_chinese_reviews.json', 'r') as file:\n",
    "    for line in file:\n",
    "        business = json.loads(line)\n",
    "        j = 0\n",
    "        stars = []\n",
    "        for key in business.keys():\n",
    "            if j < 30:\n",
    "                j +=1\n",
    "                stars += [review['stars'] for review in business[key]]\n",
    "        mean = statistics.mean(stars)\n",
    "        mean = statistics.mean(stars)\n",
    "        median = statistics.median(stars)\n",
    "        std_dev = statistics.stdev(stars)\n",
    "        min_value = min(stars)\n",
    "        max_value = max(stars)\n",
    "\n",
    "        # Display the statistics\n",
    "        print(\"across 100 representative reviews for non-chinese restaurants in \" + city)\n",
    "        print(\"Mean:\", mean)\n",
    "        print(\"Median:\", median)\n",
    "        print(\"Standard Deviation:\", std_dev)\n",
    "        print(\"Minimum Value:\", min_value)\n",
    "        print(\"Maximum Value:\", max_value)"
   ]
  },
  {
   "cell_type": "code",
   "execution_count": 19,
   "id": "c81b7651-a089-4ad9-8543-e1de7ac8dd37",
   "metadata": {},
   "outputs": [
    {
     "data": {
      "image/png": "[encoded data removed]",
      "text/plain": [
       "<Figure size 432x288 with 1 Axes>"
      ]
     },
     "metadata": {
      "needs_background": "light"
     },
     "output_type": "display_data"
    }
   ],
   "source": [
    "import matplotlib.pyplot as plt\n",
    "plt.hist(stars, bins=5, edgecolor='black')  # Adjust the number of bins as needed\n",
    "plt.xlabel('Values')\n",
    "plt.ylabel('Frequency')\n",
    "plt.title('Rating Frequency for Non-Chinese Restaurants in ' + city)\n",
    "\n",
    "plt.show()"
   ]
  },
  {
   "cell_type": "code",
   "execution_count": 20,
   "id": "44a446ef-e67d-48d3-bbba-457927cf170b",
   "metadata": {},
   "outputs": [
    {
     "data": {
      "image/png": "[encoded data removed]",
      "text/plain": [
       "<Figure size 432x288 with 1 Axes>"
      ]
     },
     "metadata": {
      "needs_background": "light"
     },
     "output_type": "display_data"
    }
   ],
   "source": [
    "plt.boxplot(stars, vert=False)\n",
    "\n",
    "plt.xlabel('Ratings')\n",
    "plt.title('Review Ratings Non-Chinese restaurants in ' + city)\n",
    "\n",
    "plt.show()"
   ]
  },
  {
   "cell_type": "raw",
   "id": "e9a949ff-0458-41ba-8143-d92a1f664ee3",
   "metadata": {},
   "source": [
    "Asian Analysis"
   ]
  },
  {
   "cell_type": "code",
   "execution_count": 21,
   "id": "cc93d296-dc54-4fdf-980c-9082776f3962",
   "metadata": {},
   "outputs": [],
   "source": [
    "import json\n",
    "import statistics\n",
    "\n",
    "\n",
    "def get_stars(fname):\n",
    "    i = 0\n",
    "    with open(fname, 'r') as file:\n",
    "        for line in file:\n",
    "            business = json.loads(line)\n",
    "            j = 0\n",
    "            stars = []\n",
    "            for key in business.keys():\n",
    "                if j < 30:\n",
    "                    j +=1\n",
    "                    stars += [review['stars'] for review in business[key]]\n",
    "            mean = statistics.mean(stars)\n",
    "            median = statistics.median(stars)\n",
    "            std_dev = statistics.stdev(stars)\n",
    "            min_value = min(stars)\n",
    "            max_value = max(stars)\n",
    "\n",
    "            # # Display the statistics\n",
    "            # print(\"across 100 representative reviews for every chinese restaurant in \" + city)\n",
    "            # print(\"Mean:\", mean)\n",
    "            # print(\"Median:\", median)\n",
    "            # print(\"Standard Deviation:\", std_dev)\n",
    "            # print(\"Minimum Value:\", min_value)\n",
    "            # print(\"Maximum Value:\", max_value)\n",
    "            return(stars)\n",
    "        "
   ]
  },
  {
   "cell_type": "code",
   "execution_count": null,
   "id": "b02c93e2-92d1-439d-b299-1af14dd41b04",
   "metadata": {},
   "outputs": [],
   "source": []
  },
  {
   "cell_type": "code",
   "execution_count": 22,
   "id": "f426249c-ddc3-4cc3-9d38-dcc416b7c225",
   "metadata": {},
   "outputs": [
    {
     "ename": "NameError",
     "evalue": "name 'chinese_stars' is not defined",
     "output_type": "error",
     "traceback": [
      "\u001b[0;31m---------------------------------------------------------------------------\u001b[0m",
      "\u001b[0;31mNameError\u001b[0m                                 Traceback (most recent call last)",
      "\u001b[0;32m/var/folders/wt/fxn47htd0j1fd3h_ft2nc9cr0000gq/T/ipykernel_66633/2527218137.py\u001b[0m in \u001b[0;36m<cell line: 1>\u001b[0;34m()\u001b[0m\n\u001b[0;32m----> 1\u001b[0;31m \u001b[0mplt\u001b[0m\u001b[0;34m.\u001b[0m\u001b[0mboxplot\u001b[0m\u001b[0;34m(\u001b[0m\u001b[0mchinese_stars\u001b[0m\u001b[0;34m,\u001b[0m \u001b[0mvert\u001b[0m\u001b[0;34m=\u001b[0m\u001b[0;32mFalse\u001b[0m\u001b[0;34m)\u001b[0m\u001b[0;34m\u001b[0m\u001b[0;34m\u001b[0m\u001b[0m\n\u001b[0m\u001b[1;32m      2\u001b[0m \u001b[0;34m\u001b[0m\u001b[0m\n\u001b[1;32m      3\u001b[0m \u001b[0;31m# Labeling and titling the box plot\u001b[0m\u001b[0;34m\u001b[0m\u001b[0;34m\u001b[0m\u001b[0m\n\u001b[1;32m      4\u001b[0m \u001b[0mplt\u001b[0m\u001b[0;34m.\u001b[0m\u001b[0mxlabel\u001b[0m\u001b[0;34m(\u001b[0m\u001b[0;34m'Ratings'\u001b[0m\u001b[0;34m)\u001b[0m\u001b[0;34m\u001b[0m\u001b[0;34m\u001b[0m\u001b[0m\n\u001b[1;32m      5\u001b[0m \u001b[0mplt\u001b[0m\u001b[0;34m.\u001b[0m\u001b[0mtitle\u001b[0m\u001b[0;34m(\u001b[0m\u001b[0;34m'Review Ratings across Chinese restaurants in '\u001b[0m \u001b[0;34m+\u001b[0m \u001b[0mcity\u001b[0m\u001b[0;34m)\u001b[0m\u001b[0;34m\u001b[0m\u001b[0;34m\u001b[0m\u001b[0m\n",
      "\u001b[0;31mNameError\u001b[0m: name 'chinese_stars' is not defined"
     ]
    }
   ],
   "source": [
    "plt.boxplot(chinese_stars, vert=False)\n",
    "\n",
    "plt.xlabel('Ratings')\n",
    "plt.title('Review Ratings across Chinese restaurants in ' + city)\n",
    "\n",
    "plt.show()"
   ]
  },
  {
   "cell_type": "code",
   "execution_count": 9,
   "id": "0d9cafb5-f3f8-42b1-805d-402c3a3e6f4a",
   "metadata": {},
   "outputs": [
    {
     "ename": "NameError",
     "evalue": "name 'chinese_stars' is not defined",
     "output_type": "error",
     "traceback": [
      "\u001b[0;31m---------------------------------------------------------------------------\u001b[0m",
      "\u001b[0;31mNameError\u001b[0m                                 Traceback (most recent call last)",
      "\u001b[0;32m/var/folders/wt/fxn47htd0j1fd3h_ft2nc9cr0000gq/T/ipykernel_66633/4163630745.py\u001b[0m in \u001b[0;36m<cell line: 4>\u001b[0;34m()\u001b[0m\n\u001b[1;32m      2\u001b[0m \u001b[0;34m\u001b[0m\u001b[0m\n\u001b[1;32m      3\u001b[0m \u001b[0;31m# Plotting the histogram\u001b[0m\u001b[0;34m\u001b[0m\u001b[0;34m\u001b[0m\u001b[0m\n\u001b[0;32m----> 4\u001b[0;31m \u001b[0mplt\u001b[0m\u001b[0;34m.\u001b[0m\u001b[0mhist\u001b[0m\u001b[0;34m(\u001b[0m\u001b[0mchinese_stars\u001b[0m\u001b[0;34m,\u001b[0m \u001b[0mbins\u001b[0m\u001b[0;34m=\u001b[0m\u001b[0;36m5\u001b[0m\u001b[0;34m,\u001b[0m \u001b[0medgecolor\u001b[0m\u001b[0;34m=\u001b[0m\u001b[0;34m'black'\u001b[0m\u001b[0;34m)\u001b[0m  \u001b[0;31m# Adjust the number of bins as needed\u001b[0m\u001b[0;34m\u001b[0m\u001b[0;34m\u001b[0m\u001b[0m\n\u001b[0m\u001b[1;32m      5\u001b[0m \u001b[0;34m\u001b[0m\u001b[0m\n\u001b[1;32m      6\u001b[0m \u001b[0;31m# Labeling and titling the histogram\u001b[0m\u001b[0;34m\u001b[0m\u001b[0;34m\u001b[0m\u001b[0m\n",
      "\u001b[0;31mNameError\u001b[0m: name 'chinese_stars' is not defined"
     ]
    }
   ],
   "source": [
    "\n",
    "plt.hist(chinese_stars, bins=5, edgecolor='black')  # Adjust the number of bins as needed\n",
    "\n",
    "plt.xlabel('Values')\n",
    "plt.ylabel('Frequency')\n",
    "plt.title('Rating Frequency of Chinese Restaurants in ' + city)\n",
    "plt.show()"
   ]
  },
  {
   "cell_type": "code",
   "execution_count": 11,
   "id": "fb6ea770-47ed-44a5-8e2e-682ace8fe4de",
   "metadata": {},
   "outputs": [],
   "source": [
    "import pandas as pd\n",
    "import numpy as np\n",
    "census_dataset = pd.read_csv('2020_Census_Data_Cities.csv') \n",
    "census_dataset.head(5)\n",
    "census_dataset = census_dataset.drop(columns=['Total population'])\n",
    "\n",
    "\n",
    "\n",
    "\n"
   ]
  },
  {
   "cell_type": "code",
   "execution_count": 13,
   "id": "8b6f1ff8-6453-4750-9580-962d91d318dc",
   "metadata": {},
   "outputs": [
    {
     "data": {
      "text/plain": [
       "<AxesSubplot:title={'center':'Stacked Bar Graph'}, ylabel='City'>"
      ]
     },
     "execution_count": 13,
     "metadata": {},
     "output_type": "execute_result"
    },
    {
     "data": {
      "image/png": "[encoded data removed]",
      "text/plain": [
       "<Figure size 432x288 with 1 Axes>"
      ]
     },
     "metadata": {
      "needs_background": "light"
     },
     "output_type": "display_data"
    }
   ],
   "source": [
    "import pandas as pd \n",
    "import matplotlib.pyplot as plt \n",
    "  \n",
    "census_dataset.plot( \n",
    "    x = 'City', \n",
    "    kind = 'barh', \n",
    "    stacked = True, \n",
    "    title = 'Stacked Bar Graph', \n",
    "    mark_right = True) "
   ]
  },
  {
   "cell_type": "code",
   "execution_count": 10,
   "id": "9410d69d-2b21-4d04-8cb9-3a8c6f537b81",
   "metadata": {},
   "outputs": [
    {
     "name": "stdout",
     "output_type": "stream",
     "text": [
      "T-TEST STAT:  5.612415464107878\n",
      "T-TEST PVALUE:  2.1336092063570666e-08\n"
     ]
    }
   ],
   "source": [
    "from scipy import stats\n",
    "t_statistic, p_value = stats.ttest_ind(stars, chinese_stars)\n",
    "\n",
    "print(\"T-TEST STAT: \", t_statistic)\n",
    "print(\"T-TEST PVALUE: \", p_value)"
   ]
  },
  {
   "cell_type": "code",
   "execution_count": null,
   "id": "0d1a361d-288a-4047-aa83-9d6bf9bbe340",
   "metadata": {},
   "outputs": [],
   "source": []
  },
  {
   "cell_type": "code",
   "execution_count": 14,
   "id": "2d1fb8ac-a07f-4cc0-9821-b02eaf6edddb",
   "metadata": {},
   "outputs": [
    {
     "data": {
      "text/html": [
       "<div>\n",
       "<style scoped>\n",
       "    .dataframe tbody tr th:only-of-type {\n",
       "        vertical-align: middle;\n",
       "    }\n",
       "\n",
       "    .dataframe tbody tr th {\n",
       "        vertical-align: top;\n",
       "    }\n",
       "\n",
       "    .dataframe thead th {\n",
       "        text-align: right;\n",
       "    }\n",
       "</style>\n",
       "<table border=\"1\" class=\"dataframe\">\n",
       "  <thead>\n",
       "    <tr style=\"text-align: right;\">\n",
       "      <th></th>\n",
       "      <th>City</th>\n",
       "      <th>White</th>\n",
       "      <th>Black</th>\n",
       "      <th>American Native and Alaska Native</th>\n",
       "      <th>Asian</th>\n",
       "      <th>Hispanic Latino percent</th>\n",
       "      <th>Other</th>\n",
       "      <th>DI</th>\n",
       "    </tr>\n",
       "  </thead>\n",
       "  <tbody>\n",
       "    <tr>\n",
       "      <th>0</th>\n",
       "      <td>Philadelphia</td>\n",
       "      <td>33.8</td>\n",
       "      <td>40.8</td>\n",
       "      <td>0.3</td>\n",
       "      <td>7.4</td>\n",
       "      <td>15.4</td>\n",
       "      <td>2.3</td>\n",
       "      <td>0.689562</td>\n",
       "    </tr>\n",
       "    <tr>\n",
       "      <th>1</th>\n",
       "      <td>Santa Barbara</td>\n",
       "      <td>55.5</td>\n",
       "      <td>1.7</td>\n",
       "      <td>0.7</td>\n",
       "      <td>3.7</td>\n",
       "      <td>36.2</td>\n",
       "      <td>2.2</td>\n",
       "      <td>0.558740</td>\n",
       "    </tr>\n",
       "    <tr>\n",
       "      <th>2</th>\n",
       "      <td>Tampa</td>\n",
       "      <td>44.4</td>\n",
       "      <td>22.4</td>\n",
       "      <td>0.2</td>\n",
       "      <td>4.6</td>\n",
       "      <td>26.2</td>\n",
       "      <td>2.2</td>\n",
       "      <td>0.681440</td>\n",
       "    </tr>\n",
       "    <tr>\n",
       "      <th>3</th>\n",
       "      <td>Indianapolis</td>\n",
       "      <td>52.7</td>\n",
       "      <td>28.8</td>\n",
       "      <td>0.2</td>\n",
       "      <td>3.9</td>\n",
       "      <td>10.8</td>\n",
       "      <td>3.6</td>\n",
       "      <td>0.624842</td>\n",
       "    </tr>\n",
       "    <tr>\n",
       "      <th>4</th>\n",
       "      <td>New Orleans</td>\n",
       "      <td>30.6</td>\n",
       "      <td>58.1</td>\n",
       "      <td>0.2</td>\n",
       "      <td>2.7</td>\n",
       "      <td>5.6</td>\n",
       "      <td>2.8</td>\n",
       "      <td>0.564150</td>\n",
       "    </tr>\n",
       "  </tbody>\n",
       "</table>\n",
       "</div>"
      ],
      "text/plain": [
       "            City  White  Black  American Native and Alaska Native  Asian  \\\n",
       "0   Philadelphia   33.8   40.8                                0.3    7.4   \n",
       "1  Santa Barbara   55.5    1.7                                0.7    3.7   \n",
       "2          Tampa   44.4   22.4                                0.2    4.6   \n",
       "3   Indianapolis   52.7   28.8                                0.2    3.9   \n",
       "4    New Orleans   30.6   58.1                                0.2    2.7   \n",
       "\n",
       "   Hispanic Latino percent  Other        DI  \n",
       "0                     15.4    2.3  0.689562  \n",
       "1                     36.2    2.2  0.558740  \n",
       "2                     26.2    2.2  0.681440  \n",
       "3                     10.8    3.6  0.624842  \n",
       "4                      5.6    2.8  0.564150  "
      ]
     },
     "execution_count": 14,
     "metadata": {},
     "output_type": "execute_result"
    }
   ],
   "source": [
    "ethnicity_columns = ['White', 'Black', 'American Native and Alaska Native', 'Asian', 'Hispanic Latino percent', 'Other']\n",
    "\n",
    "# Calculate the Diversity Index for each row and add it as a new column 'DI'\n",
    "census_dataset['DI'] = 1 - census_dataset[ethnicity_columns].apply(lambda row: sum((row/100) ** 2), axis=1)\n",
    "\n",
    "\n",
    "census_dataset.head(5)\n"
   ]
  },
  {
   "cell_type": "code",
   "execution_count": 15,
   "id": "a9043a28-9504-4bbd-b94c-49a11c46fe4f",
   "metadata": {},
   "outputs": [
    {
     "ename": "NameError",
     "evalue": "name 'stats' is not defined",
     "output_type": "error",
     "traceback": [
      "\u001b[0;31m---------------------------------------------------------------------------\u001b[0m",
      "\u001b[0;31mNameError\u001b[0m                                 Traceback (most recent call last)",
      "\u001b[0;32m/var/folders/wt/fxn47htd0j1fd3h_ft2nc9cr0000gq/T/ipykernel_5593/3961148274.py\u001b[0m in \u001b[0;36m<cell line: 22>\u001b[0;34m()\u001b[0m\n\u001b[1;32m     25\u001b[0m     \u001b[0mnch_mean_stars\u001b[0m\u001b[0;34m.\u001b[0m\u001b[0mappend\u001b[0m\u001b[0;34m(\u001b[0m\u001b[0mstatistics\u001b[0m\u001b[0;34m.\u001b[0m\u001b[0mmean\u001b[0m\u001b[0;34m(\u001b[0m\u001b[0mnon_chinese_stars\u001b[0m\u001b[0;34m)\u001b[0m\u001b[0;34m)\u001b[0m\u001b[0;34m\u001b[0m\u001b[0;34m\u001b[0m\u001b[0m\n\u001b[1;32m     26\u001b[0m     \u001b[0mch_mean_stars\u001b[0m\u001b[0;34m.\u001b[0m\u001b[0mappend\u001b[0m\u001b[0;34m(\u001b[0m\u001b[0mstatistics\u001b[0m\u001b[0;34m.\u001b[0m\u001b[0mmean\u001b[0m\u001b[0;34m(\u001b[0m\u001b[0mchinese_stars\u001b[0m\u001b[0;34m)\u001b[0m\u001b[0;34m)\u001b[0m\u001b[0;34m\u001b[0m\u001b[0;34m\u001b[0m\u001b[0m\n\u001b[0;32m---> 27\u001b[0;31m     \u001b[0mt_statistic\u001b[0m\u001b[0;34m,\u001b[0m \u001b[0mp_value\u001b[0m \u001b[0;34m=\u001b[0m \u001b[0mstats\u001b[0m\u001b[0;34m.\u001b[0m\u001b[0mttest_ind\u001b[0m\u001b[0;34m(\u001b[0m\u001b[0mnon_chinese_stars\u001b[0m\u001b[0;34m,\u001b[0m \u001b[0mchinese_stars\u001b[0m\u001b[0;34m)\u001b[0m\u001b[0;34m\u001b[0m\u001b[0;34m\u001b[0m\u001b[0m\n\u001b[0m\u001b[1;32m     28\u001b[0m     \u001b[0mt_values\u001b[0m\u001b[0;34m.\u001b[0m\u001b[0mappend\u001b[0m\u001b[0;34m(\u001b[0m\u001b[0mt_statistic\u001b[0m\u001b[0;34m)\u001b[0m\u001b[0;34m\u001b[0m\u001b[0;34m\u001b[0m\u001b[0m\n\u001b[1;32m     29\u001b[0m     \u001b[0mp_values\u001b[0m\u001b[0;34m.\u001b[0m\u001b[0mappend\u001b[0m\u001b[0;34m(\u001b[0m\u001b[0mp_value\u001b[0m\u001b[0;34m)\u001b[0m\u001b[0;34m\u001b[0m\u001b[0;34m\u001b[0m\u001b[0m\n",
      "\u001b[0;31mNameError\u001b[0m: name 'stats' is not defined"
     ]
    }
   ],
   "source": [
    "cities = census_dataset['City'] \n",
    "chinese_json = []\n",
    "not_chinese_json = []\n",
    "for each in cities:\n",
    "    chinese_json.append(each.replace(\" \", \"_\").lower()+'_chinese_reviews.json')\n",
    "    not_chinese_json.append(each.replace(\" \", \"_\").lower()+'_not_chinese_reviews.json')\n",
    "    \n",
    "    \n",
    "# nch_mean_stars = []\n",
    "# for nch in not_chinese_json:\n",
    "#     nch_mean_stars.append(statistics.mean(get_stars(nch)))\n",
    "# census_dataset['Mean Non-Chinese Stars'] = nch_stars \n",
    "\n",
    "# ch_mean_stars = []\n",
    "# for ch in chinese_json:\n",
    "#     ch_mean_stars.append(statistics.mean(get_stars(ch)))\n",
    "nch_mean_stars = []\n",
    "ch_mean_stars = []\n",
    "t_values = []\n",
    "p_values = []\n",
    "stars_city_dict = {}\n",
    "for i in range(0,5):\n",
    "    chinese_stars = get_stars(chinese_json[i])\n",
    "    non_chinese_stars = get_stars(not_chinese_json[i])\n",
    "    nch_mean_stars.append(statistics.mean(non_chinese_stars))\n",
    "    ch_mean_stars.append(statistics.mean(chinese_stars))\n",
    "    t_statistic, p_value = stats.ttest_ind(non_chinese_stars, chinese_stars)\n",
    "    t_values.append(t_statistic)\n",
    "    p_values.append(p_value)\n",
    "    stars_city_dict[cities[i]+\" nch\"] = non_chinese_stars\n",
    "    stars_city_dict[cities[i]+\" ch\"] = chinese_stars\n",
    "\n",
    "census_dataset['Mean Non-Chinese Stars'] = nch_mean_stars\n",
    "census_dataset['Mean Chinese Stars'] = ch_mean_stars\n",
    "\n",
    "census_dataset['T-test score'] = t_values\n",
    "\n",
    "census_dataset['P-val'] = p_values\n",
    "census_dataset.to_csv('city_di_star_processed.csv', index=False)\n",
    "    \n",
    "census_dataset.head(5)"
   ]
  },
  {
   "cell_type": "code",
   "execution_count": 15,
   "id": "b8798dcf-9703-4566-961e-6b55f5072f26",
   "metadata": {},
   "outputs": [
    {
     "data": {
      "image/png": "[encoded data removed]",
      "text/plain": [
       "<Figure size 720x432 with 1 Axes>"
      ]
     },
     "metadata": {
      "needs_background": "light"
     },
     "output_type": "display_data"
    }
   ],
   "source": [
    "\n",
    "cities = [\"Santa Barbara\", \"New Orleans\", \"Indianapolis\", \"Tampa\", \"Philadelphia\"]\n",
    "chinese_ratings = [3.51, 3.59, 3.66, 3.44, 3.45]  \n",
    "non_chinese_ratings = [3.76, 3.88, 3.58, 3.72, 3.96] \n",
    "\n",
    "chinese_errors = [0.1, 0.08, 0.1, 0.15, 0.1]  \n",
    "non_chinese_errors = [0.08, 0.1, 0.08, 0.09, 0.11]  \n",
    "\n",
    "x = np.arange(len(cities))\n",
    "bar_width = 0.35\n",
    "\n",
    "plt.figure(figsize=(10, 6))\n",
    "plt.bar(x - bar_width/2, non_chinese_ratings, bar_width, label='Non-Chinese Restaurants', color='red', alpha=0.7, yerr=non_chinese_errors, capsize=5)\n",
    "plt.bar(x + bar_width/2, chinese_ratings, bar_width, label='Chinese Restaurants', color='blue', alpha=0.7, yerr=chinese_errors, capsize=5)\n",
    "\n",
    "plt.xticks(x, cities)\n",
    "plt.ylim(3.0, 5.0)\n",
    "\n",
    "plt.xlabel('Cities')\n",
    "plt.ylabel('Mean Star Rating')\n",
    "plt.title('Mean Rating of Chinese vs. Non-Chinese Restaurants in All Cities')\n",
    "plt.legend()\n",
    "\n",
    "plt.tight_layout()\n",
    "plt.show()"
   ]
  },
  {
   "cell_type": "code",
   "execution_count": 2,
   "id": "1276d64e-5181-4db9-b1ae-4e41e82f7ca1",
   "metadata": {},
   "outputs": [
    {
     "ename": "NameError",
     "evalue": "name 'pd' is not defined",
     "output_type": "error",
     "traceback": [
      "\u001b[0;31m---------------------------------------------------------------------------\u001b[0m",
      "\u001b[0;31mNameError\u001b[0m                                 Traceback (most recent call last)",
      "\u001b[0;32m/var/folders/wt/fxn47htd0j1fd3h_ft2nc9cr0000gq/T/ipykernel_66633/2768699830.py\u001b[0m in \u001b[0;36m<cell line: 1>\u001b[0;34m()\u001b[0m\n\u001b[0;32m----> 1\u001b[0;31m \u001b[0mdi_star_df\u001b[0m \u001b[0;34m=\u001b[0m \u001b[0mpd\u001b[0m\u001b[0;34m.\u001b[0m\u001b[0mread_csv\u001b[0m\u001b[0;34m(\u001b[0m\u001b[0;34m'city_di_star_processed.csv'\u001b[0m\u001b[0;34m)\u001b[0m\u001b[0;34m\u001b[0m\u001b[0;34m\u001b[0m\u001b[0m\n\u001b[0m\u001b[1;32m      2\u001b[0m \u001b[0mplt\u001b[0m\u001b[0;34m.\u001b[0m\u001b[0mfigure\u001b[0m\u001b[0;34m(\u001b[0m\u001b[0mfigsize\u001b[0m\u001b[0;34m=\u001b[0m\u001b[0;34m(\u001b[0m\u001b[0;36m10\u001b[0m\u001b[0;34m,\u001b[0m \u001b[0;36m6\u001b[0m\u001b[0;34m)\u001b[0m\u001b[0;34m)\u001b[0m\u001b[0;34m\u001b[0m\u001b[0;34m\u001b[0m\u001b[0m\n\u001b[1;32m      3\u001b[0m \u001b[0mplt\u001b[0m\u001b[0;34m.\u001b[0m\u001b[0mscatter\u001b[0m\u001b[0;34m(\u001b[0m\u001b[0mdi_star_df\u001b[0m\u001b[0;34m[\u001b[0m\u001b[0;34m'DI'\u001b[0m\u001b[0;34m]\u001b[0m\u001b[0;34m,\u001b[0m \u001b[0mdi_star_df\u001b[0m\u001b[0;34m[\u001b[0m\u001b[0;34m'Mean Chinese Stars'\u001b[0m\u001b[0;34m]\u001b[0m\u001b[0;34m,\u001b[0m \u001b[0malpha\u001b[0m\u001b[0;34m=\u001b[0m\u001b[0;36m0.5\u001b[0m\u001b[0;34m)\u001b[0m\u001b[0;34m\u001b[0m\u001b[0;34m\u001b[0m\u001b[0m\n\u001b[1;32m      4\u001b[0m \u001b[0mplt\u001b[0m\u001b[0;34m.\u001b[0m\u001b[0mtitle\u001b[0m\u001b[0;34m(\u001b[0m\u001b[0;34m'Scatter Plot of Diversity Index vs. Mean Star Rating (Chinese Resaturants)'\u001b[0m\u001b[0;34m)\u001b[0m\u001b[0;34m\u001b[0m\u001b[0;34m\u001b[0m\u001b[0m\n\u001b[1;32m      5\u001b[0m \u001b[0mplt\u001b[0m\u001b[0;34m.\u001b[0m\u001b[0mxlabel\u001b[0m\u001b[0;34m(\u001b[0m\u001b[0;34m'Diversity Index'\u001b[0m\u001b[0;34m)\u001b[0m\u001b[0;34m\u001b[0m\u001b[0;34m\u001b[0m\u001b[0m\n",
      "\u001b[0;31mNameError\u001b[0m: name 'pd' is not defined"
     ]
    }
   ],
   "source": [
    "di_star_df = pd.read_csv('city_di_star_processed.csv')\n",
    "plt.figure(figsize=(10, 6))\n",
    "plt.scatter(di_star_df['DI'], di_star_df['Mean Chinese Stars'], alpha=0.5)\n",
    "plt.title('Scatter Plot of Diversity Index vs. Mean Star Rating (Chinese Resaturants)')\n",
    "plt.xlabel('Diversity Index')\n",
    "plt.ylabel('Mean Star Rating')\n",
    "plt.show()\n"
   ]
  },
  {
   "cell_type": "code",
   "execution_count": 35,
   "id": "44b000cf-be2d-40e4-a92c-f2cd23c7d160",
   "metadata": {},
   "outputs": [
    {
     "name": "stdout",
     "output_type": "stream",
     "text": [
      "T-test betweem Chinese resturants in Philadelphia vs. Santa Barbara\n",
      "T-TEST STAT:  -1.0454259883511297\n",
      "T-TEST PVALUE:  0.29592051746863723\n"
     ]
    }
   ],
   "source": [
    "t_statistic, p_value = stats.ttest_ind(stars_city_dict['Philadelphia ch'], stars_city_dict['Santa Barbara ch'])\n",
    "print('T-test betweem Chinese resturants in Philadelphia vs. Santa Barbara')\n",
    "print(\"T-TEST STAT: \", t_statistic)\n",
    "print(\"T-TEST PVALUE: \", p_value)"
   ]
  },
  {
   "cell_type": "code",
   "execution_count": 36,
   "id": "a1652adf-e437-47a3-bc6f-7c099ae1e234",
   "metadata": {},
   "outputs": [
    {
     "name": "stdout",
     "output_type": "stream",
     "text": [
      "T-test between Non-Chinese resturants in Philadelphia vs. Santa Barbara\n",
      "T-TEST STAT:  5.015716120936141\n",
      "T-TEST PVALUE:  5.485356759788711e-07\n"
     ]
    }
   ],
   "source": [
    "t_statistic, p_value = stats.ttest_ind(stars_city_dict['Philadelphia nch'], stars_city_dict['Santa Barbara nch'])\n",
    "print('T-test between Non-Chinese resturants in Philadelphia vs. Santa Barbara')\n",
    "print(\"T-TEST STAT: \", t_statistic)\n",
    "print(\"T-TEST PVALUE: \", p_value)"
   ]
  },
  {
   "cell_type": "code",
   "execution_count": 48,
   "id": "af06b976-280f-42e6-b718-613e0dbf534e",
   "metadata": {},
   "outputs": [
    {
     "name": "stdout",
     "output_type": "stream",
     "text": [
      "T-test between Chinese resturants in Philadelphia vs. New Orleans\n",
      "T-TEST STAT:  -2.7122775074401386\n",
      "T-TEST PVALUE:  0.0067199499207932145\n"
     ]
    }
   ],
   "source": [
    "t_statistic, p_value = stats.ttest_ind(stars_city_dict['Philadelphia ch'], stars_city_dict['New Orleans ch'])\n",
    "print('T-test between Chinese resturants in Philadelphia vs. New Orleans')\n",
    "print(\"T-TEST STAT: \", t_statistic)\n",
    "print(\"T-TEST PVALUE: \", p_value)"
   ]
  },
  {
   "cell_type": "code",
   "execution_count": 40,
   "id": "eb09493f-d3c4-4232-a25a-c4af1534e002",
   "metadata": {},
   "outputs": [
    {
     "name": "stdout",
     "output_type": "stream",
     "text": [
      "T-test between Non-Chinese resturants in Philadelphia vs. New Orleans\n",
      "T-TEST STAT:  2.325377939469908\n",
      "T-TEST PVALUE:  0.020090999628974437\n"
     ]
    }
   ],
   "source": [
    "t_statistic, p_value = stats.ttest_ind(stars_city_dict['Philadelphia nch'], stars_city_dict['New Orleans nch'])\n",
    "print('T-test between Non-Chinese resturants in Philadelphia vs. New Orleans')\n",
    "print(\"T-TEST STAT: \", t_statistic)\n",
    "print(\"T-TEST PVALUE: \", p_value)"
   ]
  },
  {
   "cell_type": "code",
   "execution_count": 49,
   "id": "91268761-858c-4e2b-80fe-e3f8d8cda153",
   "metadata": {},
   "outputs": [
    {
     "name": "stdout",
     "output_type": "stream",
     "text": [
      "T-test between Chinese resturants in Philadelphia vs. Indianapolis\n",
      "T-TEST STAT:  -3.8700470050973004\n",
      "T-TEST PVALUE:  0.00011127578392543178\n"
     ]
    }
   ],
   "source": [
    "t_statistic, p_value = stats.ttest_ind(stars_city_dict['Philadelphia ch'], stars_city_dict['Indianapolis ch'])\n",
    "print('T-test between Chinese resturants in Philadelphia vs. Indianapolis')\n",
    "print(\"T-TEST STAT: \", t_statistic)\n",
    "print(\"T-TEST PVALUE: \", p_value)"
   ]
  },
  {
   "cell_type": "code",
   "execution_count": 50,
   "id": "b3fdd777-cd17-453b-99e7-7266f0690f90",
   "metadata": {},
   "outputs": [
    {
     "name": "stdout",
     "output_type": "stream",
     "text": [
      "T-test between Non-Chinese resturants in Philadelphia vs. Indianapolis\n",
      "T-TEST STAT:  9.534128641886095\n",
      "T-TEST PVALUE:  2.3925826417832355e-21\n"
     ]
    }
   ],
   "source": [
    "t_statistic, p_value = stats.ttest_ind(stars_city_dict['Philadelphia nch'], stars_city_dict['Indianapolis nch'])\n",
    "print('T-test between Non-Chinese resturants in Philadelphia vs. Indianapolis')\n",
    "print(\"T-TEST STAT: \", t_statistic)\n",
    "print(\"T-TEST PVALUE: \", p_value)"
   ]
  },
  {
   "cell_type": "code",
   "execution_count": 51,
   "id": "a6c101ea-aff8-47be-b326-7f632b8d4619",
   "metadata": {},
   "outputs": [
    {
     "name": "stdout",
     "output_type": "stream",
     "text": [
      "T-test between Chinese resturants in Philadelphia vs. Tampa\n",
      "T-TEST STAT:  0.013289864045426597\n",
      "T-TEST PVALUE:  0.9893974476963392\n"
     ]
    }
   ],
   "source": [
    "t_statistic, p_value = stats.ttest_ind(stars_city_dict['Philadelphia ch'], stars_city_dict['Tampa ch'])\n",
    "print('T-test between Chinese resturants in Philadelphia vs. Tampa')\n",
    "print(\"T-TEST STAT: \", t_statistic)\n",
    "print(\"T-TEST PVALUE: \", p_value)"
   ]
  },
  {
   "cell_type": "code",
   "execution_count": 52,
   "id": "086305aa-a4bb-4536-bc25-3a5e93bb88d7",
   "metadata": {},
   "outputs": [
    {
     "name": "stdout",
     "output_type": "stream",
     "text": [
      "T-test between Non-Chinese resturants in Philadelphia vs. Tampa\n",
      "T-TEST STAT:  6.363383333163453\n",
      "T-TEST PVALUE:  2.1478569781229496e-10\n"
     ]
    }
   ],
   "source": [
    "t_statistic, p_value = stats.ttest_ind(stars_city_dict['Philadelphia nch'], stars_city_dict['Tampa nch'])\n",
    "print('T-test between Non-Chinese resturants in Philadelphia vs. Tampa')\n",
    "print(\"T-TEST STAT: \", t_statistic)\n",
    "print(\"T-TEST PVALUE: \", p_value)"
   ]
  },
  {
   "cell_type": "raw",
   "id": "1e27ad4e-a16a-4a6d-ac8c-c1f2eda2d3cb",
   "metadata": {},
   "source": [
    "Santa Barbara, New Orleans, Indianapolis, Tampa, Philadelphia (least to most diverse cities based on DI)"
   ]
  },
  {
   "cell_type": "code",
   "execution_count": 25,
   "id": "90deb035-6b3c-4f0e-b447-809b97831ab4",
   "metadata": {},
   "outputs": [
    {
     "name": "stdout",
     "output_type": "stream",
     "text": [
      "Pearson Correlation Coefficient: -0.5363234791874976\n",
      "P-value: 0.3514507523536071\n"
     ]
    }
   ],
   "source": [
    "\n",
    "from scipy.stats import pearsonr\n",
    "mod_census_dataset = pd.read_csv('city_di_star_processed.csv') \n",
    "di = mod_census_dataset['DI']\n",
    "mean_review_rating = mod_census_dataset['Mean Chinese Stars']\n",
    "\n",
    "correlation_coefficient, p_value = pearsonr(di, mean_review_rating)\n",
    "\n",
    "print(f\"Pearson Correlation Coefficient: {correlation_coefficient}\")\n",
    "print(f\"P-value: {p_value}\")"
   ]
  },
  {
   "cell_type": "code",
   "execution_count": 67,
   "id": "2c6d157c-b098-4cd5-ba06-bed0041c32af",
   "metadata": {},
   "outputs": [
    {
     "data": {
      "image/png": "[encoded data removed]",
      "text/plain": [
       "<Figure size 720x432 with 1 Axes>"
      ]
     },
     "metadata": {
      "needs_background": "light"
     },
     "output_type": "display_data"
    }
   ],
   "source": [
    "import seaborn as sns\n",
    "plt.figure(figsize=(10, 6))\n",
    "city_order = ['Santa Barbara', 'New Orleans', 'Indianapolis', 'Tampa', 'Philadelphia'] \n",
    "sns.barplot(x='City', y='DI', data=census_dataset, order=city_order)\n",
    "plt.title('Bar Graph of Diversity Index by City')\n",
    "plt.ylim(0.5, 0.7)\n",
    "plt.xlabel('City')\n",
    "plt.ylabel('Diversity Index')\n",
    "plt.show()"
   ]
  },
  {
   "cell_type": "code",
   "execution_count": 70,
   "id": "13d60274-ab67-4bf9-9f0b-83752ee43fbf",
   "metadata": {},
   "outputs": [
    {
     "name": "stdout",
     "output_type": "stream",
     "text": [
      "One-way ANOVA F-statistic: 5.1748171853996885\n",
      "P-value: 0.0003680610529971969\n"
     ]
    }
   ],
   "source": [
    "from scipy.stats import f_oneway\n",
    "\n",
    "f_statistic, p_value = f_oneway(stars_city_dict['Philadelphia ch'], stars_city_dict['Tampa ch'], stars_city_dict['Indianapolis ch'], stars_city_dict['New Orleans ch'], stars_city_dict['Santa Barbara ch'])\n",
    "print(f\"One-way ANOVA F-statistic: {f_statistic}\")\n",
    "print(f\"P-value: {p_value}\")"
   ]
  },
  {
   "cell_type": "code",
   "execution_count": 71,
   "id": "8f903068-53d8-47ce-ac69-927551785c74",
   "metadata": {},
   "outputs": [
    {
     "name": "stdout",
     "output_type": "stream",
     "text": [
      "One-way ANOVA F-statistic: 26.43378088484382\n",
      "P-value: 7.405035241024006e-22\n"
     ]
    }
   ],
   "source": [
    "from scipy.stats import f_oneway\n",
    "\n",
    "f_statistic, p_value = f_oneway(stars_city_dict['Philadelphia nch'], stars_city_dict['Tampa nch'], stars_city_dict['Indianapolis nch'], stars_city_dict['New Orleans nch'], stars_city_dict['Santa Barbara nch'])\n",
    "print(f\"One-way ANOVA F-statistic: {f_statistic}\")\n",
    "print(f\"P-value: {p_value}\")"
   ]
  },
  {
   "cell_type": "code",
   "execution_count": null,
   "id": "81f85c6a-3b20-4620-9932-2a9007e016fa",
   "metadata": {},
   "outputs": [],
   "source": []
  }
 ],
 "metadata": {
  "kernelspec": {
   "display_name": "Python 3 (ipykernel)",
   "language": "python",
   "name": "python3"
  },
  "language_info": {
   "codemirror_mode": {
    "name": "ipython",
    "version": 3
   },
   "file_extension": ".py",
   "mimetype": "text/x-python",
   "name": "python",
   "nbconvert_exporter": "python",
   "pygments_lexer": "ipython3",
   "version": "3.9.7"
  }
 },
 "nbformat": 4,
 "nbformat_minor": 5
}
